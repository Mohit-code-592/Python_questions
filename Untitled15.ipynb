{
  "nbformat": 4,
  "nbformat_minor": 0,
  "metadata": {
    "colab": {
      "provenance": [],
      "authorship_tag": "ABX9TyNNkICLzki6MQxNQC20Wm2z",
      "include_colab_link": true
    },
    "kernelspec": {
      "name": "python3",
      "display_name": "Python 3"
    },
    "language_info": {
      "name": "python"
    }
  },
  "cells": [
    {
      "cell_type": "markdown",
      "metadata": {
        "id": "view-in-github",
        "colab_type": "text"
      },
      "source": [
        "<a href=\"https://colab.research.google.com/github/Mohit-code-592/Web_Projects/blob/main/Untitled15.ipynb\" target=\"_parent\"><img src=\"https://colab.research.google.com/assets/colab-badge.svg\" alt=\"Open In Colab\"/></a>"
      ]
    },
    {
      "cell_type": "code",
      "execution_count": null,
      "metadata": {
        "id": "jJC9ehhVtgOb"
      },
      "outputs": [],
      "source": [
        "n = int(input(\"Enter day(1-7)\"))\n",
        "if n == 1:\n",
        "    print(\"mon\")\n",
        "elif n == 2:\n",
        "    print(\"tue\")\n",
        "elif n == 3:\n",
        "    print(\"wed\")\n",
        "elif n == 4:\n",
        "    print(\"thurs\")\n",
        "elif n == 5:\n",
        "    print(\"fri\")\n",
        "elif n == 6:\n",
        "    print(\"satur\")\n",
        "elif n == 7:\n",
        "    print(\"sun\")\n",
        "else:\n",
        "    print(\"Please enter valid day\")"
      ]
    },
    {
      "cell_type": "code",
      "source": [
        "ch = input(\"Enter Ch : \")\n",
        "if ch == 'a' or ch == 'i' or ch == 'o' or ch == 'e' or ch == 'u':\n",
        "    print(\"vowels\")\n",
        "else:\n",
        "    print(\"not\")\n",
        ""
      ],
      "metadata": {
        "id": "JUjYx6QLtni-"
      },
      "execution_count": null,
      "outputs": []
    }
  ]
}